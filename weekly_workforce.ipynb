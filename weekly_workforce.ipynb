{
 "cells": [
  {
   "cell_type": "markdown",
   "id": "8c46084f",
   "metadata": {},
   "source": [
    "## Problem description"
   ]
  },
  {
   "cell_type": "markdown",
   "id": "e62cac0c",
   "metadata": {},
   "source": [
    "A new food store has been opened at the University Campus which will be open 24 hours a day, 7 days a week. <br>\n",
    "\n",
    "Each day, there are three eight-hour shifts. Morning shift is from 6:00 to 14:00, evening shift is from 14:00 to 22:00 and night shift is from 22:00 to 6:00 of the next day. <br>\n",
    "\n",
    "During the night there is only one worker while during the day there are two, except on Sunday that there is only one for each shift. Each worker will not exceed a maximum of 40 hours per week and have to rest for 12 hours between two shifts. <br>\n",
    "\n",
    "As for the weekly rest days, an employee who rests one Sunday will also prefer to do the same that Saturday. <br>\n",
    "\n",
    "In principle, there are available ten employees, which is clearly over-sized. The less the workers are needed, the more the resources for other stores."
   ]
  },
  {
   "cell_type": "markdown",
   "id": "7d414b6d",
   "metadata": {},
   "source": [
    "### Import libraries"
   ]
  },
  {
   "cell_type": "code",
   "execution_count": 1,
   "id": "3858a6b3",
   "metadata": {},
   "outputs": [],
   "source": [
    "from pyomo.environ import *\n",
    "from pyomo.opt import SolverFactory"
   ]
  },
  {
   "cell_type": "markdown",
   "id": "4658fc98",
   "metadata": {},
   "source": [
    "### Model Parameters"
   ]
  },
  {
   "cell_type": "code",
   "execution_count": 2,
   "id": "3ccd2c5d",
   "metadata": {},
   "outputs": [],
   "source": [
    "# Days (1 week)\n",
    "days = ['Mon', 'Tue', 'Wed', 'Thu', 'Fri', 'Sat', 'Sun']\n",
    "\n",
    "# Shifts of each day\n",
    "shifts = ['morning', 'evening', 'night']  # 3 shifts of 8 hours\n",
    "days_shifts = {day: shifts for day in days}  # dict with day as key and list of its shifts as value\n",
    "\n",
    "# Enter workers ids (name, number, ...)\n",
    "workers = ['Worker' + str(i) for i in range(1, 11)]  # 10 workers available, more than needed"
   ]
  },
  {
   "cell_type": "markdown",
   "id": "4dc7af87",
   "metadata": {},
   "source": [
    "### Initialize model and variables"
   ]
  },
  {
   "cell_type": "code",
   "execution_count": 4,
   "id": "b9eb468d",
   "metadata": {},
   "outputs": [],
   "source": [
    "# Initialize model\n",
    "model = ConcreteModel()\n",
    "\n",
    "# binary variables representing if a worker is scheduled somewhere\n",
    "model.works = Var(((worker, day, shift) for worker in workers for day in days for shift in days_shifts[day]),\n",
    "                  within=Binary, initialize=0)\n",
    "\n",
    "# binary variables representing if a worker is necessary\n",
    "model.needed = Var(workers, within=Binary, initialize=0)\n",
    "\n",
    "# binary variables representing if a worker worked on sunday but not on saturday (avoid if possible)\n",
    "model.no_pref = Var(workers, within=Binary, initialize=0)"
   ]
  },
  {
   "cell_type": "markdown",
   "id": "2f0ffda5",
   "metadata": {},
   "source": [
    "### Objective Funcion"
   ]
  },
  {
   "cell_type": "code",
   "execution_count": 5,
   "id": "cf714f6f",
   "metadata": {},
   "outputs": [],
   "source": [
    "# Define an objective function with model as input, to pass later\n",
    "def obj_rule(m):\n",
    "    c = len(workers)\n",
    "    return sum(m.no_pref[worker] for worker in workers) + sum(c * m.needed[worker] for worker in workers)\n",
    "# we multiply the second term by a constant to make sure that it is the primary objective\n",
    "# since sum(m.no_prefer) is at most len(workers), len(workers) + 1 is a valid constant.\n",
    "\n",
    "# add objective function to the model. rule (pass function) or expr (pass expression directly)\n",
    "model.obj = Objective(rule=obj_rule, sense=minimize)"
   ]
  },
  {
   "cell_type": "markdown",
   "id": "a6c32de1",
   "metadata": {},
   "source": [
    "### Constraints"
   ]
  },
  {
   "cell_type": "code",
   "execution_count": 7,
   "id": "3b5d9d64",
   "metadata": {},
   "outputs": [],
   "source": [
    "model.constraints = ConstraintList()  # Create a set of constraints\n",
    "\n",
    "# Constraint: all shifts are assigned\n",
    "for day in days:\n",
    "    for shift in days_shifts[day]:\n",
    "        if day in days[:-1] and shift in ['morning', 'evening']:\n",
    "            # weekdays' and Saturdays' day shifts have exactly two workers\n",
    "            model.constraints.add(  # to add a constraint to model.constraints set\n",
    "                2 == sum(model.works[worker, day, shift] for worker in workers)\n",
    "            )\n",
    "        else:\n",
    "            # Sundays' and nights' shifts have exactly one worker\n",
    "            model.constraints.add(\n",
    "                1 == sum(model.works[worker, day, shift] for worker in workers)\n",
    "            )\n",
    "\n",
    "# Constraint: no more than 40 hours worked\n",
    "for worker in workers:\n",
    "    model.constraints.add(\n",
    "        40 >= sum(8 * model.works[worker, day, shift] for day in days for shift in days_shifts[day])\n",
    "    )\n",
    "\n",
    "# Constraint: rest between two shifts is of 12 hours (i.e., at least two shifts)\n",
    "for worker in workers:\n",
    "    for j in range(len(days)):\n",
    "        # if working in morning, cannot work again that day\n",
    "        model.constraints.add(\n",
    "            1 >= sum(model.works[worker, days[j], shift] for shift in days_shifts[days[j]])\n",
    "        )\n",
    "        # if working in evening, until next evening (note that after sunday comes next monday)\n",
    "        model.constraints.add(\n",
    "            1 >= sum(model.works[worker, days[j], shift] for shift in ['evening', 'night']) +\n",
    "            model.works[worker, days[(j + 1) % 7], 'morning']\n",
    "        )\n",
    "        # if working in night, until next night\n",
    "        model.constraints.add(\n",
    "            1 >= model.works[worker, days[j], 'night'] +\n",
    "            sum(model.works[worker, days[(j + 1) % 7], shift] for shift in ['morning', 'evening'])\n",
    "        )\n",
    "\n",
    "# Constraint (def of model.needed)\n",
    "for worker in workers:\n",
    "    model.constraints.add(\n",
    "        10000 * model.needed[worker] >= sum(model.works[worker, day, shift] for day in days for shift in days_shifts[day])\n",
    "    )  # if any model.works[worker, ·, ·] non-zero, model.needed[worker] must be one; else is zero to reduce the obj function\n",
    "    # 10000 is to remark, but 5 was enough since max of 40 hours yields max of 5 shifts, the maximum possible sum\n",
    "\n",
    "# Constraint (def of model.no_pref)\n",
    "for worker in workers:\n",
    "    model.constraints.add(\n",
    "        model.no_pref[worker] >= sum(model.works[worker, 'Sat', shift] for shift in days_shifts['Sat'])\n",
    "        - sum(model.works[worker, 'Sun', shift] for shift in days_shifts['Sun'])\n",
    "    )  # if not working on sunday but working saturday model.needed must be 1; else will be zero to reduce the obj function"
   ]
  },
  {
   "cell_type": "markdown",
   "id": "2eb1dadb",
   "metadata": {},
   "source": [
    "### Call solver"
   ]
  },
  {
   "cell_type": "code",
   "execution_count": 8,
   "id": "f5e4119b",
   "metadata": {},
   "outputs": [],
   "source": [
    "opt = SolverFactory('cbc')  # choose a solver\n",
    "results = opt.solve(model)  # solve the model with the selected solver"
   ]
  },
  {
   "cell_type": "markdown",
   "id": "08e087c1",
   "metadata": {},
   "source": [
    "### Extract solution"
   ]
  },
  {
   "cell_type": "code",
   "execution_count": 9,
   "id": "a8d47a28",
   "metadata": {},
   "outputs": [],
   "source": [
    "def get_workers_needed(needed):\n",
    "    \"\"\"Extract to a list the needed workers for the optimal solution.\"\"\"\n",
    "    workers_needed = []\n",
    "    for worker in workers:\n",
    "        if needed[worker].value == 1:\n",
    "            workers_needed.append(worker)\n",
    "    return workers_needed\n",
    "\n",
    "\n",
    "def get_work_table(works):\n",
    "    \"\"\"Build a timetable of the week as a dictionary from the model's optimal solution.\"\"\"\n",
    "    week_table = {day: {shift: [] for shift in days_shifts[day]} for day in days}\n",
    "    for worker in workers:\n",
    "        for day in days:\n",
    "            for shift in days_shifts[day]:\n",
    "                    if works[worker, day, shift].value == 1:\n",
    "                        week_table[day][shift].append(worker)\n",
    "    return week_table\n",
    "\n",
    "\n",
    "def get_no_preference(no_pref):\n",
    "    \"\"\"Extract to a list the workers not satisfied with their weekend preference.\"\"\"\n",
    "    return [worker for worker in workers if no_pref[worker].value == 1]\n",
    "\n",
    "\n",
    "workers_needed = get_workers_needed(model.needed)  # dict with the optimal timetable\n",
    "week_table = get_work_table(model.works)  # list with the required workers\n",
    "workers_no_pref = get_no_preference(model.no_pref)  # list with the non-satisfied workers (work on Sat but not on Sun)"
   ]
  },
  {
   "cell_type": "markdown",
   "id": "fa8f2914",
   "metadata": {},
   "source": [
    "### Print solution (as json)"
   ]
  },
  {
   "cell_type": "code",
   "execution_count": 11,
   "id": "51c070bb",
   "metadata": {},
   "outputs": [],
   "source": [
    "import json"
   ]
  },
  {
   "cell_type": "code",
   "execution_count": 12,
   "id": "f1d5c3c0",
   "metadata": {},
   "outputs": [
    {
     "name": "stdout",
     "output_type": "stream",
     "text": [
      "Workers needed:\n",
      "  Worker1\n",
      "  Worker2\n",
      "  Worker3\n",
      "  Worker6\n",
      "  Worker8\n",
      "  Worker9\n",
      "  Worker10\n"
     ]
    }
   ],
   "source": [
    "print('Workers needed:')\n",
    "[print('  ' + worker) for worker in workers_needed];"
   ]
  },
  {
   "cell_type": "code",
   "execution_count": 13,
   "id": "d7f488d4",
   "metadata": {},
   "outputs": [
    {
     "name": "stdout",
     "output_type": "stream",
     "text": [
      "Work schedule:\n",
      "{\n",
      "  \"Mon\": {\n",
      "    \"morning\": [\n",
      "      \"Worker2\",\n",
      "      \"Worker9\"\n",
      "    ],\n",
      "    \"evening\": [\n",
      "      \"Worker6\",\n",
      "      \"Worker8\"\n",
      "    ],\n",
      "    \"night\": [\n",
      "      \"Worker10\"\n",
      "    ]\n",
      "  },\n",
      "  \"Tue\": {\n",
      "    \"morning\": [\n",
      "      \"Worker1\",\n",
      "      \"Worker9\"\n",
      "    ],\n",
      "    \"evening\": [\n",
      "      \"Worker6\",\n",
      "      \"Worker8\"\n",
      "    ],\n",
      "    \"night\": [\n",
      "      \"Worker3\"\n",
      "    ]\n",
      "  },\n",
      "  \"Wed\": {\n",
      "    \"morning\": [\n",
      "      \"Worker1\",\n",
      "      \"Worker2\"\n",
      "    ],\n",
      "    \"evening\": [\n",
      "      \"Worker8\",\n",
      "      \"Worker10\"\n",
      "    ],\n",
      "    \"night\": [\n",
      "      \"Worker6\"\n",
      "    ]\n",
      "  },\n",
      "  \"Thu\": {\n",
      "    \"morning\": [\n",
      "      \"Worker2\",\n",
      "      \"Worker3\"\n",
      "    ],\n",
      "    \"evening\": [\n",
      "      \"Worker9\",\n",
      "      \"Worker10\"\n",
      "    ],\n",
      "    \"night\": [\n",
      "      \"Worker1\"\n",
      "    ]\n",
      "  },\n",
      "  \"Fri\": {\n",
      "    \"morning\": [\n",
      "      \"Worker3\",\n",
      "      \"Worker6\"\n",
      "    ],\n",
      "    \"evening\": [\n",
      "      \"Worker8\",\n",
      "      \"Worker9\"\n",
      "    ],\n",
      "    \"night\": [\n",
      "      \"Worker2\"\n",
      "    ]\n",
      "  },\n",
      "  \"Sat\": {\n",
      "    \"morning\": [\n",
      "      \"Worker3\",\n",
      "      \"Worker6\"\n",
      "    ],\n",
      "    \"evening\": [\n",
      "      \"Worker1\",\n",
      "      \"Worker8\"\n",
      "    ],\n",
      "    \"night\": [\n",
      "      \"Worker10\"\n",
      "    ]\n",
      "  },\n",
      "  \"Sun\": {\n",
      "    \"morning\": [\n",
      "      \"Worker3\"\n",
      "    ],\n",
      "    \"evening\": [\n",
      "      \"Worker1\"\n",
      "    ],\n",
      "    \"night\": [\n",
      "      \"Worker10\"\n",
      "    ]\n",
      "  }\n",
      "}\n"
     ]
    }
   ],
   "source": [
    "print('Work schedule:')\n",
    "print(json.dumps(week_table, indent=2))"
   ]
  }
 ],
 "metadata": {
  "kernelspec": {
   "display_name": "Python 3",
   "language": "python",
   "name": "python3"
  },
  "language_info": {
   "codemirror_mode": {
    "name": "ipython",
    "version": 3
   },
   "file_extension": ".py",
   "mimetype": "text/x-python",
   "name": "python",
   "nbconvert_exporter": "python",
   "pygments_lexer": "ipython3",
   "version": "3.8.8"
  }
 },
 "nbformat": 4,
 "nbformat_minor": 5
}
